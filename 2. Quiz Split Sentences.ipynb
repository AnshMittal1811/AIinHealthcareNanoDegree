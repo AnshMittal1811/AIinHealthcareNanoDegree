{
 "cells": [
  {
   "cell_type": "code",
   "execution_count": 35,
   "metadata": {},
   "outputs": [],
   "source": [
    "\"\"\"Splitting text data into tokens.\"\"\"\n",
    "\n",
    "import re\n",
    "\n",
    "def sent_tokenize(text):\n",
    "    \"\"\"Split text into sentences.\"\"\"\n",
    "    \n",
    "\n",
    "    # TODO: Split text by sentence delimiters (remove delimiters)\n",
    "    sentences = re.split(r\"[.!?]\\s\", text)\n",
    "\n",
    "    # TODO: Remove leading and trailing spaces from each sentence\n",
    "    sentences = [sent.strip(\" \") for sent in sentences]\n",
    "    sentences = sentences[:-1]\n",
    "    \n",
    "    return sentences  # TODO: Return a list of sentences (remove blank strings)\n",
    "\n",
    "\n",
    "def word_tokenize(sent):\n",
    "    \"\"\"Split a sentence into words.\"\"\"\n",
    "\n",
    "    # TODO: Split sent by word delimiters (remove delimiters)\n",
    "    words = re.split(r\"(?<!\\w\\.)\\s\", sent)\n",
    "    # TODO: Remove leading and trailing spaces from each word\n",
    "    words = [word.strip(\" \") for word in words]\n",
    "    words = words[:-1]\n",
    "    \n",
    "    return words # TODO: Return a list of words (remove blank strings)\n",
    "\n",
    "\n",
    "def test_run():\n",
    "    \"\"\"Called on Test Run.\"\"\"\n",
    "\n",
    "    text = \"The first time you see The Second Renaissance it may look boring. Look at it at least twice and definitely watch part 2. It will change your view of the matrix. Are the human people the ones who started the war? Is AI a bad thing?\"\n",
    "    print(\"--- Sample text ---\", text, sep=\"\\n\")\n",
    "    \n",
    "    sentences = sent_tokenize(text)\n",
    "    print(\"\\n--- Sentences ---\")\n",
    "    print(sentences)\n",
    "    \n",
    "    print(\"\\n--- Words ---\")\n",
    "    for sent in sentences:\n",
    "        print(sent)\n",
    "        print(word_tokenize(sent))\n",
    "        print()  # blank line for readability"
   ]
  },
  {
   "cell_type": "code",
   "execution_count": 36,
   "metadata": {},
   "outputs": [
    {
     "name": "stdout",
     "output_type": "stream",
     "text": [
      "--- Sample text ---\n",
      "The first time you see The Second Renaissance it may look boring. Look at it at least twice and definitely watch part 2. It will change your view of the matrix. Are the human people the ones who started the war? Is AI a bad thing?\n",
      "\n",
      "--- Sentences ---\n",
      "['The first time you see The Second Renaissance it may look boring', 'Look at it at least twice and definitely watch part 2', 'It will change your view of the matrix', 'Are the human people the ones who started the war']\n",
      "\n",
      "--- Words ---\n",
      "The first time you see The Second Renaissance it may look boring\n",
      "['The', 'first', 'time', 'you', 'see', 'The', 'Second', 'Renaissance', 'it', 'may', 'look']\n",
      "\n",
      "Look at it at least twice and definitely watch part 2\n",
      "['Look', 'at', 'it', 'at', 'least', 'twice', 'and', 'definitely', 'watch', 'part']\n",
      "\n",
      "It will change your view of the matrix\n",
      "['It', 'will', 'change', 'your', 'view', 'of', 'the']\n",
      "\n",
      "Are the human people the ones who started the war\n",
      "['Are', 'the', 'human', 'people', 'the', 'ones', 'who', 'started', 'the']\n",
      "\n"
     ]
    }
   ],
   "source": [
    "test_run()"
   ]
  }
 ],
 "metadata": {
  "kernelspec": {
   "display_name": "Python 3",
   "language": "python",
   "name": "python3"
  },
  "language_info": {
   "codemirror_mode": {
    "name": "ipython",
    "version": 3
   },
   "file_extension": ".py",
   "mimetype": "text/x-python",
   "name": "python",
   "nbconvert_exporter": "python",
   "pygments_lexer": "ipython3",
   "version": "3.7.3"
  }
 },
 "nbformat": 4,
 "nbformat_minor": 2
}
